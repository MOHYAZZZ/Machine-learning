{
 "cells": [
  {
   "cell_type": "markdown",
   "metadata": {},
   "source": [
    "## _Assignment 2_"
   ]
  },
  {
   "cell_type": "markdown",
   "metadata": {},
   "source": [
    "### Importing necessary packages"
   ]
  },
  {
   "cell_type": "code",
   "execution_count": 1,
   "metadata": {},
   "outputs": [],
   "source": [
    "from sklearn.model_selection import train_test_split\n",
    "from sklearn.preprocessing import StandardScaler\n",
    "from sklearn.datasets import load_diabetes\n",
    "from sklearn.linear_model import Lasso\n",
    "from sklearn.model_selection import cross_validate\n",
    "import numpy as np\n",
    "import matplotlib.pyplot as plt\n",
    "from sklearn.model_selection import GridSearchCV\n",
    "from sklearn.svm import SVC\n",
    "diabetes = load_diabetes()\n",
    "diabetes.data.shape\n",
    "scaler = StandardScaler()"
   ]
  },
  {
   "cell_type": "code",
   "execution_count": 2,
   "metadata": {},
   "outputs": [],
   "source": [
    "#Helped me understand the diabetes dataset\n",
    "#print(diabetes.DESCR)"
   ]
  },
  {
   "cell_type": "markdown",
   "metadata": {},
   "source": [
    "### Item 1 and 2:"
   ]
  },
  {
   "cell_type": "code",
   "execution_count": 3,
   "metadata": {},
   "outputs": [],
   "source": [
    "X_train, X_test, y_train, y_test = train_test_split(diabetes['data'],\n",
    "diabetes['target'], random_state=2111) #random state in Bday format DDMM"
   ]
  },
  {
   "cell_type": "markdown",
   "metadata": {},
   "source": [
    "### Item 3:\n",
    "\n",
    "### Training and Test R^2 for the Lasso model"
   ]
  },
  {
   "cell_type": "code",
   "execution_count": 4,
   "metadata": {},
   "outputs": [
    {
     "name": "stdout",
     "output_type": "stream",
     "text": [
      "Training score = 0.3678443557281196\n"
     ]
    }
   ],
   "source": [
    "lasso = Lasso().fit(X_train,y_train)\n",
    "score = lasso.score(X_train,y_train)\n",
    "\n",
    "print(\"Training score = \" + str(score))\n",
    "#lasso.score(X_train,y_train).round(3) if rounded number is needed"
   ]
  },
  {
   "cell_type": "code",
   "execution_count": 5,
   "metadata": {},
   "outputs": [
    {
     "name": "stdout",
     "output_type": "stream",
     "text": [
      "Test score = 0.35279881442735406\n"
     ]
    }
   ],
   "source": [
    "# lasso_test = Lasso().fit(X_test,y_test)\n",
    "score_test = lasso.score(X_test,y_test)\n",
    "\n",
    "print(\"Test score = \" + str(score_test))"
   ]
  },
  {
   "cell_type": "code",
   "execution_count": 6,
   "metadata": {},
   "outputs": [
    {
     "data": {
      "text/plain": [
       "array([  0.        ,  -0.        , 371.97246841,  45.52934317,\n",
       "         0.        ,   0.        ,  -0.        ,   0.        ,\n",
       "       285.50930631,   0.        ])"
      ]
     },
     "execution_count": 6,
     "metadata": {},
     "output_type": "execute_result"
    }
   ],
   "source": [
    "lasso.coef_"
   ]
  },
  {
   "cell_type": "markdown",
   "metadata": {},
   "source": [
    "### Item 3 continued:\n",
    "#### This model uses 10 features"
   ]
  },
  {
   "cell_type": "code",
   "execution_count": 7,
   "metadata": {},
   "outputs": [
    {
     "data": {
      "text/plain": [
       "[('age', 0.0),\n",
       " ('sex', -0.0),\n",
       " ('bmi', 371.97246841098786),\n",
       " ('bp', 45.529343171196146),\n",
       " ('s1', 0.0),\n",
       " ('s2', 0.0),\n",
       " ('s3', -0.0),\n",
       " ('s4', 0.0),\n",
       " ('s5', 285.509306305682),\n",
       " ('s6', 0.0)]"
      ]
     },
     "execution_count": 7,
     "metadata": {},
     "output_type": "execute_result"
    }
   ],
   "source": [
    "list(zip(diabetes.feature_names, lasso.coef_)) "
   ]
  },
  {
   "cell_type": "markdown",
   "metadata": {},
   "source": [
    "### Importing the original dataset"
   ]
  },
  {
   "cell_type": "code",
   "execution_count": 8,
   "metadata": {},
   "outputs": [],
   "source": [
    "X = np.genfromtxt(\"diabetes.data\",skip_header = 1,usecols=np.arange(10)) # all the columns except the last \n",
    "y = np.genfromtxt(\"diabetes.data\", skip_header = 1,usecols=-1) #only the last column"
   ]
  },
  {
   "cell_type": "code",
   "execution_count": 9,
   "metadata": {},
   "outputs": [
    {
     "name": "stdout",
     "output_type": "stream",
     "text": [
      "(331, 10)\n",
      "(111, 10)\n"
     ]
    }
   ],
   "source": [
    "print(X_train.shape)\n",
    "print(X_test.shape)"
   ]
  },
  {
   "cell_type": "code",
   "execution_count": 10,
   "metadata": {},
   "outputs": [],
   "source": [
    "X_train, X_test, y_train, y_test = train_test_split(X, y, random_state=2111) #random state in Bday format DDMM"
   ]
  },
  {
   "cell_type": "markdown",
   "metadata": {},
   "source": [
    "### Item 6:"
   ]
  },
  {
   "cell_type": "code",
   "execution_count": 11,
   "metadata": {},
   "outputs": [
    {
     "name": "stdout",
     "output_type": "stream",
     "text": [
      "Before normalization:\n",
      "Training = 0.5366184151228652\n"
     ]
    }
   ],
   "source": [
    "lasso = Lasso().fit(X_train,y_train)\n",
    "score = lasso.score(X_train,y_train)\n",
    "\n",
    "print(\"Before normalization:\")\n",
    "print(\"Training = \" + str(score))"
   ]
  },
  {
   "cell_type": "markdown",
   "metadata": {},
   "source": [
    "### As we can see below the model uses 10 features again just like the one in item 3"
   ]
  },
  {
   "cell_type": "code",
   "execution_count": 12,
   "metadata": {},
   "outputs": [
    {
     "data": {
      "text/plain": [
       "array([-9.34109683e-02, -2.15859941e+01,  5.73504874e+00,  1.34121746e+00,\n",
       "        1.76453014e-02, -2.83321589e-01, -1.09028194e+00,  0.00000000e+00,\n",
       "        3.95997336e+01,  3.46609585e-01])"
      ]
     },
     "execution_count": 12,
     "metadata": {},
     "output_type": "execute_result"
    }
   ],
   "source": [
    "lasso.coef_"
   ]
  },
  {
   "cell_type": "code",
   "execution_count": 13,
   "metadata": {},
   "outputs": [
    {
     "name": "stdout",
     "output_type": "stream",
     "text": [
      "Before normalization:\n",
      "Test score = 0.4315934063062895\n"
     ]
    }
   ],
   "source": [
    "score_test = lasso.score(X_test,y_test)\n",
    "\n",
    "print(\"Before normalization:\")\n",
    "print(\"Test score = \" + str(score_test))"
   ]
  },
  {
   "cell_type": "markdown",
   "metadata": {},
   "source": [
    "### Preprocessing the training and test sets using StandardScaler from sklearn library."
   ]
  },
  {
   "cell_type": "code",
   "execution_count": 14,
   "metadata": {},
   "outputs": [],
   "source": [
    "scaler.fit(X_train)\n",
    "X_train_scaled = scaler.transform(X_train)\n",
    "X_test_scaled = scaler.transform(X_test)"
   ]
  },
  {
   "cell_type": "markdown",
   "metadata": {},
   "source": [
    "### item number 3 on the scaled data above."
   ]
  },
  {
   "cell_type": "code",
   "execution_count": 15,
   "metadata": {},
   "outputs": [
    {
     "name": "stdout",
     "output_type": "stream",
     "text": [
      "After normalization:\n",
      "Training = 0.5388833069040577\n"
     ]
    }
   ],
   "source": [
    "lasso = Lasso().fit(X_train_scaled,y_train)\n",
    "score = lasso.score(X_train_scaled,y_train)\n",
    "\n",
    "print(\"After normalization:\")\n",
    "print(\"Training = \" + str(score))"
   ]
  },
  {
   "cell_type": "code",
   "execution_count": 16,
   "metadata": {},
   "outputs": [
    {
     "name": "stdout",
     "output_type": "stream",
     "text": [
      "After normalization:\n",
      "Test score = 0.4364336729139563\n"
     ]
    }
   ],
   "source": [
    "score_test = lasso.score(X_test_scaled,y_test)\n",
    "\n",
    "print(\"After normalization:\")\n",
    "print(\"Test score = \" + str(score_test))"
   ]
  },
  {
   "cell_type": "code",
   "execution_count": 17,
   "metadata": {},
   "outputs": [
    {
     "data": {
      "text/plain": [
       "array([ -0.        , -11.42907265,  24.623985  ,  16.94954831,\n",
       "        -8.58851647,  -0.        ,  -9.14591699,   0.        ,\n",
       "        26.3098244 ,   2.70353909])"
      ]
     },
     "execution_count": 17,
     "metadata": {},
     "output_type": "execute_result"
    }
   ],
   "source": [
    "lasso.coef_"
   ]
  },
  {
   "cell_type": "markdown",
   "metadata": {},
   "source": [
    "### Are your current results closer to those in item 3 or item 6? \n",
    "### The scores after normalization are closer to item 6 and that is because the R^2 score is uneffected by the units we use. for instance, it makes no difference to R2 if we use Kilometers or meters; as long as it uses the same measurement\n",
    "### Normalization is used to improve interpretation or numerical stability.\n"
   ]
  },
  {
   "cell_type": "markdown",
   "metadata": {},
   "source": [
    "# Item 9:"
   ]
  },
  {
   "cell_type": "code",
   "execution_count": 18,
   "metadata": {},
   "outputs": [
    {
     "data": {
      "image/png": "[encoded data removed]",
      "text/plain": [
       "<Figure size 432x288 with 1 Axes>"
      ]
     },
     "metadata": {
      "needs_background": "light"
     },
     "output_type": "display_data"
    },
    {
     "name": "stdout",
     "output_type": "stream",
     "text": [
      "Best aplha is  1e-11\n",
      "Best score is  0.5431\n"
     ]
    }
   ],
   "source": [
    "scores = []\n",
    "non_zeros = []\n",
    "best_score = 0\n",
    "for a in [0.00000000001, 0.000001, 0.00001, 0.0001, 0.001, 0.01, 0.1, 1, 2, 10]:\n",
    "    lasso = Lasso(alpha = a, max_iter =100000).fit(X_train_scaled,y_train)\n",
    "    score = lasso.score(X_train_scaled,y_train)\n",
    "    scores.append(score)\n",
    "    if score > best_score:\n",
    "        best_score = score \n",
    "        best_alpha = a\n",
    "    non_zeros.append(np.count_nonzero(lasso.coef_))\n",
    "\n",
    "plt.title(\"Test R^2 VS the number of features with nonzero coefficients\", fontdict = {'fontname' : 'serif'})\n",
    "plt.xlabel(\"R^2 scores\")\n",
    "plt.ylabel(\"Number of features\")\n",
    "plt.plot(scores, non_zeros, color = \"blue\")\n",
    "plt.show()\n",
    "\n",
    "print(\"Best aplha is \", best_alpha)\n",
    "print(\"Best score is \", best_score.round(4))"
   ]
  },
  {
   "cell_type": "markdown",
   "metadata": {},
   "source": [
    "### Item 10:"
   ]
  },
  {
   "cell_type": "code",
   "execution_count": 19,
   "metadata": {},
   "outputs": [
    {
     "name": "stdout",
     "output_type": "stream",
     "text": [
      "0.4827016553388027\n",
      "0.48270166737847264\n",
      "0.4827017757615362\n",
      "0.48270285883681385\n",
      "0.4827136225980608\n",
      "0.48298965527272697\n",
      "0.48602339498948527\n",
      "0.4947414928445394\n",
      "0.4950579715870639\n",
      "0.4460892621817729\n"
     ]
    },
    {
     "data": {
      "image/png": "[encoded data removed]",
      "text/plain": [
       "<Figure size 432x288 with 1 Axes>"
      ]
     },
     "metadata": {
      "needs_background": "light"
     },
     "output_type": "display_data"
    }
   ],
   "source": [
    "# cross validation\n",
    "lst = []\n",
    "non_zeros = []\n",
    "for a in [0.00000000001, 0.000001, 0.00001, 0.0001, 0.001, 0.01, 0.1, 1, 2, 10]:\n",
    "    lasso = Lasso(alpha = a, max_iter =100000).fit(X_train_scaled,y_train)\n",
    "    cv = cross_validate(lasso,X_train_scaled, y_train)\n",
    "    average = (np.sum(cv['test_score']))/len(cv['test_score'])\n",
    "    print(average)\n",
    "    lst.append(average)\n",
    "    non_zeros.append(np.count_nonzero(lasso.coef_))\n",
    "\n",
    "plt.title(\"Regularization parameter for the Lasso using cross-validation\", fontdict = {'fontname' : 'serif'})\n",
    "plt.xlabel(\"Average of test scores\")\n",
    "plt.ylabel(\"Number of features\")\n",
    "plt.plot(lst, non_zeros,color = \"blue\")\n",
    "plt.show()"
   ]
  },
  {
   "cell_type": "markdown",
   "metadata": {},
   "source": [
    "### Item 11:"
   ]
  },
  {
   "cell_type": "markdown",
   "metadata": {},
   "source": [
    "#### To avoid confusion, I will import the data again(this avoids having long variable names and make it easier for me). Another way of doing this is changing the name of the variables in item 5 and using them here without importing them. \n"
   ]
  },
  {
   "cell_type": "code",
   "execution_count": 20,
   "metadata": {},
   "outputs": [],
   "source": [
    "X = np.genfromtxt(\"diabetes.data\",skip_header = 1,usecols=np.arange(10)) \n",
    "y = np.genfromtxt(\"diabetes.data\", skip_header = 1,usecols=-1)\n",
    "X_train, X_test, y_train, y_test = train_test_split(X, y, random_state=2111)\n",
    "training_proper_x, calibration_x, training_proper_y,calibration_y = train_test_split(X_train, y_train, random_state = 2111, test_size = 99)"
   ]
  },
  {
   "cell_type": "markdown",
   "metadata": {},
   "source": [
    "### Preprocessing the training set, calibration set, and test set using StandardScaler"
   ]
  },
  {
   "cell_type": "code",
   "execution_count": 21,
   "metadata": {},
   "outputs": [],
   "source": [
    "#scaler was set to StandardScaler above\n",
    "scaler.fit(training_proper_x)\n",
    "scaled_training_proper_x = scaler.transform(training_proper_x)\n",
    "scaled_calibration_x = scaler.transform(calibration_x)\n",
    "scaled_test_x = scaler.transform(X_test) #testing set"
   ]
  },
  {
   "cell_type": "code",
   "execution_count": 22,
   "metadata": {},
   "outputs": [],
   "source": [
    "lasso = Lasso().fit(scaled_training_proper_x, training_proper_y)\n",
    "score = lasso.score(scaled_training_proper_x,training_proper_y)\n",
    "# print(score)"
   ]
  },
  {
   "cell_type": "markdown",
   "metadata": {},
   "source": [
    "### I will use the formula below as an inductive nonconformity measure, where $\\hat{y}$ is the Lasso prediction computed from the training set proper(calculated above).\n",
    "\n",
    "\n",
    "### α = |y − $\\hat{y}$|\n",
    "\n",
    "\n",
    "#### Formula and description from slides 50-57 chapter 6.\n"
   ]
  },
  {
   "cell_type": "code",
   "execution_count": 23,
   "metadata": {},
   "outputs": [
    {
     "name": "stdout",
     "output_type": "stream",
     "text": [
      "[  0.18247889   0.27238966   0.95536948   1.58084601   1.7408132\n",
      "   1.81879351   2.08383741   2.84197053   3.92339973   5.10867606\n",
      "   6.48366906   6.62496858   6.65453603   8.37999541   8.96870869\n",
      "  10.00114321  11.39500713  11.39573049  11.59305214  12.76139213\n",
      "  13.27606721  14.0688093   14.387453    14.91204521  16.37016238\n",
      "  16.85563867  17.02024133  17.26575756  17.5859937   19.61532339\n",
      "  21.94819112  22.3134908   22.36486469  23.12983507  23.43916105\n",
      "  26.93471019  28.84523075  29.92720375  30.26848701  30.83019475\n",
      "  35.44558025  35.47150977  36.22304225  36.87197794  36.88348047\n",
      "  36.89508448  37.4515378   37.57505668  38.06013819  38.21630384\n",
      "  39.03106321  39.55821144  40.13171174  41.20830917  42.15444901\n",
      "  42.18523245  43.65476293  43.87040884  43.99869589  44.01358594\n",
      "  45.01236572  45.30424364  45.71253877  47.68650663  48.15478698\n",
      "  49.65645263  50.04207775  50.64178781  52.79219461  54.48165963\n",
      "  54.9731598   55.03604505  55.35679726  57.94224211  58.38703554\n",
      "  58.5281281   59.79294841  60.02356422  60.882241    61.29310155\n",
      "  62.87474235  65.23434389  67.89500582  71.05248832  72.12798083\n",
      "  76.15796227  79.24982804  81.5855188   82.43014413  86.67694519\n",
      "  86.89083021  86.96833175  91.52240731  95.56997258  98.53609293\n",
      " 101.82896289 105.83128995 106.30720464 123.88946128]\n"
     ]
    }
   ],
   "source": [
    "y_hat = lasso.predict(scaled_calibration_x)\n",
    "nonconformity = abs(calibration_y - y_hat)\n",
    "sorted_nonconformity = np.sort(nonconformity)\n",
    "print(sorted_nonconformity)\n",
    "# print(len(sorted_nonconformity)) = m for the formula below"
   ]
  },
  {
   "cell_type": "markdown",
   "metadata": {},
   "source": [
    "## _Finding K and c_\n",
    "### k = ⌈(1 − ϵ)(m + 1)⌉\n",
    "### significance levels 5% and 20% => ϵ = 0.05 and 0.2\n",
    "\n",
    "### k = ⌈(1 − 0.05)(99 + 1)⌉ = 95 \n",
    "### k = ⌈(1 − 0.2)(99 + 1)⌉ = 80\n",
    " \n",
    "### c = ${\\alpha}_{k}$ \n"
   ]
  },
  {
   "cell_type": "code",
   "execution_count": 24,
   "metadata": {},
   "outputs": [
    {
     "name": "stdout",
     "output_type": "stream",
     "text": [
      "C for K 95 is 98.53609292869493\n",
      "C for K 80 is 61.29310154936931\n"
     ]
    }
   ],
   "source": [
    "# returing the the index of 95 and 80 \n",
    "print(\"C for K 95 is\" + \" \" + str(sorted_nonconformity[94]))\n",
    "print(\"C for K 80 is\" + \" \" + str(sorted_nonconformity[79]))"
   ]
  },
  {
   "cell_type": "markdown",
   "metadata": {},
   "source": [
    "### [$\\hat{y}$ − c, $\\hat{y}$ + c],$\\hat{y}$ being the Lasso prediction for this test sample."
   ]
  },
  {
   "cell_type": "code",
   "execution_count": null,
   "metadata": {},
   "outputs": [],
   "source": []
  }
 ],
 "metadata": {
  "kernelspec": {
   "display_name": "Python 3",
   "language": "python",
   "name": "python3"
  },
  "language_info": {
   "codemirror_mode": {
    "name": "ipython",
    "version": 3
   },
   "file_extension": ".py",
   "mimetype": "text/x-python",
   "name": "python",
   "nbconvert_exporter": "python",
   "pygments_lexer": "ipython3",
   "version": "3.8.10"
  }
 },
 "nbformat": 4,
 "nbformat_minor": 4
}
